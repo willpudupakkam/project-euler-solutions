{
 "metadata": {
  "language_info": {
   "codemirror_mode": {
    "name": "ipython",
    "version": 3
   },
   "file_extension": ".py",
   "mimetype": "text/x-python",
   "name": "python",
   "nbconvert_exporter": "python",
   "pygments_lexer": "ipython3",
   "version": "3.12.0-final"
  },
  "orig_nbformat": 2,
  "kernelspec": {
   "name": "python3",
   "display_name": "Python 3.12.0 64-bit",
   "metadata": {
    "interpreter": {
     "hash": "f87418f156d9d419d5850b21e48359bccd7eaba550e253be086747c4436a3334"
    }
   }
  }
 },
 "nbformat": 4,
 "nbformat_minor": 2,
 "cells": [
  {
   "cell_type": "code",
   "execution_count": 22,
   "metadata": {},
   "outputs": [
    {
     "output_type": "execute_result",
     "data": {
      "text/plain": [
       "4613732"
      ]
     },
     "metadata": {},
     "execution_count": 22
    }
   ],
   "source": [
    "def fibonacci_evens(n):\n",
    "    evens_lst = [2]\n",
    "\n",
    "    x0 = 1\n",
    "    x1 = 2\n",
    "\n",
    "    while x0 + x1 < n:\n",
    "        x0_old = x0\n",
    "        if (x0 + x1) % 2 == 0:\n",
    "            evens_lst.append(x0 + x1)\n",
    "        x0 = x1\n",
    "        x1 = x0_old + x1\n",
    "\n",
    "    return evens_lst\n",
    "\n",
    "sum(fibonacci_evens(4000000))"
   ]
  }
 ]
}