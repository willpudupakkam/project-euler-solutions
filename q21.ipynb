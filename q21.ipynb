{
 "metadata": {
  "language_info": {
   "codemirror_mode": {
    "name": "ipython",
    "version": 3
   },
   "file_extension": ".py",
   "mimetype": "text/x-python",
   "name": "python",
   "nbconvert_exporter": "python",
   "pygments_lexer": "ipython3",
   "version": "3.11.4-final"
  },
  "orig_nbformat": 2,
  "kernelspec": {
   "name": "python3",
   "display_name": "Python 3.11.4 64-bit ('base': conda)",
   "metadata": {
    "interpreter": {
     "hash": "99d7ca37283b88a0a95a476fc1872d8c0e79863ed0f9d7f7d3aed9039b404d2a"
    }
   }
  }
 },
 "nbformat": 4,
 "nbformat_minor": 2,
 "cells": [
  {
   "cell_type": "code",
   "execution_count": 13,
   "metadata": {},
   "outputs": [
    {
     "output_type": "stream",
     "name": "stdout",
     "text": [
      "31626\n"
     ]
    }
   ],
   "source": [
    "def divisors(n):\n",
    "    \n",
    "    i = 1\n",
    "    divisorlst = []\n",
    "    while i < n:\n",
    "        \n",
    "        if n % i == 0:\n",
    "            divisorlst.append(i)\n",
    "            \n",
    "        i += 1\n",
    "        \n",
    "    return divisorlst\n",
    "\n",
    "i = 0\n",
    "amicablenums = []\n",
    "\n",
    "while i < 10000:\n",
    "        \n",
    "    if sum(divisors(sum(divisors(i)))) == i and sum(divisors(i)) != i and (i not in amicablenums or sum(divisors(i)) not in amicablenums):        \n",
    "        amicablenums += [i,sum(divisors(i))]\n",
    "    \n",
    "    i += 1\n",
    "    \n",
    "print(sum(amicablenums))\n"
   ]
  },
  {
   "cell_type": "code",
   "execution_count": null,
   "metadata": {},
   "outputs": [],
   "source": []
  }
 ]
}