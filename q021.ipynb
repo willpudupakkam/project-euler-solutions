{
 "metadata": {
  "language_info": {
   "codemirror_mode": {
    "name": "ipython",
    "version": 3
   },
   "file_extension": ".py",
   "mimetype": "text/x-python",
   "name": "python",
   "nbconvert_exporter": "python",
   "pygments_lexer": "ipython3",
   "version": "3.11.4-final"
  },
  "orig_nbformat": 2,
  "kernelspec": {
   "name": "python3",
   "display_name": "Python 3.11.4 64-bit ('anaconda3': virtualenv)",
   "metadata": {
    "interpreter": {
     "hash": "99d7ca37283b88a0a95a476fc1872d8c0e79863ed0f9d7f7d3aed9039b404d2a"
    }
   }
  }
 },
 "nbformat": 4,
 "nbformat_minor": 2,
 "cells": [
  {
   "source": [
    "**Problem 21**\n",
    "\n",
    "Let $d(n)$ be defined as the sum of poper divisors of $n$ (numbers less than $n$ which divide evenly into $n$).\n",
    "If $d(a)=b$ and $d(b)=a$, where $a\\neq b$, then $a$ and $b$ are an amicable pair and each of $a$ and $b$ are called amicable numbers.\n",
    "\n",
    "For example, the proper divisors of $220$ are $1,2,4,5,10,11,20,22,44,55$ and $110$; therefore $d(220)=284$. The proper divisors of $284$ are $1,2,4,71$ and $142$; so $d(284)=220$.\n",
    "\n",
    "Evaluate the sum of all the amicable numbers under $10000$."
   ],
   "cell_type": "markdown",
   "metadata": {}
  },
  {
   "cell_type": "code",
   "execution_count": 10,
   "metadata": {},
   "outputs": [
    {
     "output_type": "stream",
     "name": "stdout",
     "text": [
      "31626\nEvaluated in 5.155014991760254 seconds\n"
     ]
    }
   ],
   "source": [
    "import time\n",
    "\n",
    "def divisors(n):\n",
    "    \"\"\"Return a list of proper divisors of n.\"\"\"\n",
    "    \n",
    "    i = 1\n",
    "    divisorlst = []\n",
    "    while i < n: \n",
    "        if n % i == 0:\n",
    "            divisorlst.append(i)   \n",
    "        i += 1\n",
    "   \n",
    "    return divisorlst\n",
    "\n",
    "def amicable_num(i):\n",
    "    \"\"\"Return True if n is an amicable number, and False otherwise.\"\"\"\n",
    "    # There does not exist any amicable number pairs where both are odd, so we can skip any odd number whos divisors sum to another odd number\n",
    "\n",
    "    return (not (i % 2 != 0 and sum(divisors(i)) % 2 != 0) and sum(divisors(sum(divisors(i)))) == i and sum(divisors(i)) != i)\n",
    "\n",
    "i = 0\n",
    "amicablenums = []\n",
    "\n",
    "t0 = time.time() # Log initial time\n",
    "# Iterate through all i < 10000, appending any amicable numbers to a list\n",
    "while i < 10000:\n",
    "    if amicable_num(i) and i not in amicablenums:        \n",
    "            amicablenums += [i,sum(divisors(i))]\n",
    "    \n",
    "    i += 1\n",
    "t1 = time.time() # Log final time\n",
    "\n",
    "print(sum(amicablenums))\n",
    "print(\"Evaluated in {} seconds\".format(t1-t0)) # Print total evaluation time"
   ]
  },
  {
   "cell_type": "code",
   "execution_count": null,
   "metadata": {},
   "outputs": [],
   "source": []
  }
 ]
}