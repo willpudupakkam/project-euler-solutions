{
 "metadata": {
  "language_info": {
   "codemirror_mode": {
    "name": "ipython",
    "version": 3
   },
   "file_extension": ".py",
   "mimetype": "text/x-python",
   "name": "python",
   "nbconvert_exporter": "python",
   "pygments_lexer": "ipython3",
   "version": "3.12.0-final"
  },
  "orig_nbformat": 2,
  "kernelspec": {
   "name": "python3",
   "display_name": "Python 3.12.0 64-bit",
   "metadata": {
    "interpreter": {
     "hash": "f87418f156d9d419d5850b21e48359bccd7eaba550e253be086747c4436a3334"
    }
   }
  }
 },
 "nbformat": 4,
 "nbformat_minor": 2,
 "cells": [
  {
   "source": [
    "**Problem 1**\n",
    "\n",
    "If we list all the natural numbers below $10$ that are multiples of $3$ or $5$, we get $3, 5, 6$ and $9$.\n",
    "\n",
    "Find the sum of all the multiples of $3$ or $5$ below $1000$."
   ],
   "cell_type": "markdown",
   "metadata": {}
  },
  {
   "cell_type": "code",
   "execution_count": 15,
   "metadata": {},
   "outputs": [
    {
     "output_type": "stream",
     "name": "stdout",
     "text": [
      "233168\nEvaluated in 0.010732889175415039 seconds\n"
     ]
    }
   ],
   "source": [
    "import time\n",
    "\n",
    "def multiples_three_five(n):\n",
    "    \"\"\"Return a list of all multiples of 3 or 5 less than n.\"\"\"\n",
    "\n",
    "    multiples_lst = []\n",
    "\n",
    "    for i in range(n):\n",
    "        if i % 3 == 0 or i % 5 == 0:\n",
    "            multiples_lst.append(i)\n",
    "    \n",
    "    return multiples_lst[1:] # Since the first element will be zero, we don't need to include it\n",
    "\n",
    "t0 = time.time()\n",
    "print(sum(multiples_three_five(1000)))\n",
    "t1 = time.time()\n",
    "print(\"Evaluated in {} seconds\".format(t1-t0))"
   ]
  }
 ]
}